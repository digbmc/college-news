{
 "cells": [
  {
   "cell_type": "code",
   "execution_count": 1,
   "id": "cefa7b5b",
   "metadata": {},
   "outputs": [],
   "source": [
    "import math"
   ]
  },
  {
   "cell_type": "code",
   "execution_count": 2,
   "id": "353008e8",
   "metadata": {},
   "outputs": [],
   "source": [
    "import os"
   ]
  },
  {
   "cell_type": "code",
   "execution_count": 3,
   "id": "8f75dccd",
   "metadata": {},
   "outputs": [],
   "source": [
    "import re"
   ]
  },
  {
   "cell_type": "code",
   "execution_count": 4,
   "id": "5d8b97f9",
   "metadata": {},
   "outputs": [],
   "source": [
    "os.chdir(\"/Users/Aanandi/Desktop/projects/\")"
   ]
  },
  {
   "cell_type": "code",
   "execution_count": 5,
   "id": "c1efdab1",
   "metadata": {},
   "outputs": [],
   "source": [
    "inCorpus = \"issues\""
   ]
  },
  {
   "cell_type": "code",
   "execution_count": 6,
   "id": "b9a78d72",
   "metadata": {},
   "outputs": [],
   "source": [
    "outCorpus = \"50s-tm\""
   ]
  },
  {
   "cell_type": "code",
   "execution_count": 7,
   "id": "db7ed527",
   "metadata": {},
   "outputs": [],
   "source": [
    "if os.path.exists(outCorpus) == False:\n",
    "    os.mkdir(outCorpus)"
   ]
  },
  {
   "cell_type": "code",
   "execution_count": 8,
   "id": "d36cbbb9",
   "metadata": {},
   "outputs": [],
   "source": [
    "filenames = []"
   ]
  },
  {
   "cell_type": "code",
   "execution_count": 9,
   "id": "6ab4b1d0",
   "metadata": {},
   "outputs": [],
   "source": [
    "for root, dirs, files, in os.walk(inCorpus, topdown=False):\n",
    "    for name in files:\n",
    "        if '195' in name:\n",
    "            filenames.append(os.path.join(root, name))"
   ]
  },
  {
   "cell_type": "markdown",
   "id": "eb5abcac",
   "metadata": {},
   "source": [
    "for filename in filenames:\n",
    "    print(filename)"
   ]
  },
  {
   "cell_type": "code",
   "execution_count": 10,
   "id": "4e26a2d4",
   "metadata": {},
   "outputs": [],
   "source": [
    "for issue in filenames:\n",
    "    f = open(issue, 'r', encoding='utf-8')\n",
    "    text = f.read()\n",
    "    f.close()\n",
    "    characters = len(text)\n",
    "    chunks = math.floor(characters/500)\n",
    "    issue_name = issue[7:19]\n",
    "    start=0\n",
    "    stop=500\n",
    "    for i in range(chunks):\n",
    "        slice = text[start:stop]\n",
    "        start+=500\n",
    "        stop+=500\n",
    "        newfile = outCorpus + \"/\" + issue_name + '-chunk' + str(i) + '.txt'\n",
    "        f = open(newfile, \"w\")\n",
    "        f.write(slice)\n",
    "        f.close()"
   ]
  },
  {
   "cell_type": "code",
   "execution_count": 16,
   "id": "b2f02f8f",
   "metadata": {},
   "outputs": [
    {
     "ename": "TypeError",
     "evalue": "'int' object is not iterable",
     "output_type": "error",
     "traceback": [
      "\u001b[0;31m---------------------------------------------------------------------------\u001b[0m",
      "\u001b[0;31mTypeError\u001b[0m                                 Traceback (most recent call last)",
      "\u001b[0;32m<ipython-input-16-be70dcad615b>\u001b[0m in \u001b[0;36m<module>\u001b[0;34m\u001b[0m\n\u001b[1;32m      1\u001b[0m \u001b[0mcleaned\u001b[0m \u001b[0;34m=\u001b[0m \u001b[0;34m[\u001b[0m\u001b[0;34m]\u001b[0m\u001b[0;34m\u001b[0m\u001b[0;34m\u001b[0m\u001b[0m\n\u001b[0;32m----> 2\u001b[0;31m \u001b[0;32mfor\u001b[0m \u001b[0mchunk\u001b[0m \u001b[0;32min\u001b[0m \u001b[0mchunks\u001b[0m\u001b[0;34m:\u001b[0m\u001b[0;34m\u001b[0m\u001b[0;34m\u001b[0m\u001b[0m\n\u001b[0m\u001b[1;32m      3\u001b[0m     \u001b[0;32mif\u001b[0m \u001b[0mword\u001b[0m\u001b[0;34m.\u001b[0m\u001b[0msearch\u001b[0m\u001b[0;34m(\u001b[0m\u001b[0mchunk\u001b[0m\u001b[0;34m)\u001b[0m\u001b[0;34m:\u001b[0m\u001b[0;34m\u001b[0m\u001b[0;34m\u001b[0m\u001b[0m\n\u001b[1;32m      4\u001b[0m         \u001b[0mchunk\u001b[0m\u001b[0;34m=\u001b[0m\u001b[0mre\u001b[0m\u001b[0;34m.\u001b[0m\u001b[0msub\u001b[0m\u001b[0;34m(\u001b[0m\u001b[0;34m'\\w(-\\n)\\w'\u001b[0m\u001b[0;34m,\u001b[0m \u001b[0;34m''\u001b[0m\u001b[0;34m,\u001b[0m \u001b[0mchunk\u001b[0m\u001b[0;34m)\u001b[0m\u001b[0;34m\u001b[0m\u001b[0;34m\u001b[0m\u001b[0m\n\u001b[1;32m      5\u001b[0m         \u001b[0mchunk\u001b[0m\u001b[0;34m=\u001b[0m\u001b[0mchunk\u001b[0m\u001b[0;34m.\u001b[0m\u001b[0mreplace\u001b[0m\u001b[0;34m(\u001b[0m\u001b[0;34m'\\n'\u001b[0m\u001b[0;34m,\u001b[0m \u001b[0;34m' '\u001b[0m\u001b[0;34m)\u001b[0m\u001b[0;34m\u001b[0m\u001b[0;34m\u001b[0m\u001b[0m\n",
      "\u001b[0;31mTypeError\u001b[0m: 'int' object is not iterable"
     ]
    }
   ],
   "source": []
  },
  {
   "cell_type": "code",
   "execution_count": null,
   "id": "d5851593",
   "metadata": {},
   "outputs": [],
   "source": [
    "    "
   ]
  },
  {
   "cell_type": "code",
   "execution_count": null,
   "id": "15116396",
   "metadata": {},
   "outputs": [],
   "source": [
    "    "
   ]
  },
  {
   "cell_type": "code",
   "execution_count": null,
   "id": "12e963d9",
   "metadata": {},
   "outputs": [],
   "source": [
    "    "
   ]
  },
  {
   "cell_type": "code",
   "execution_count": null,
   "id": "e1f6dd81",
   "metadata": {},
   "outputs": [],
   "source": [
    "       "
   ]
  },
  {
   "cell_type": "code",
   "execution_count": null,
   "id": "e949d720",
   "metadata": {},
   "outputs": [],
   "source": [
    "        "
   ]
  },
  {
   "cell_type": "code",
   "execution_count": null,
   "id": "3a0b71b3",
   "metadata": {},
   "outputs": [],
   "source": [
    "        "
   ]
  },
  {
   "cell_type": "code",
   "execution_count": null,
   "id": "68722207",
   "metadata": {},
   "outputs": [],
   "source": []
  }
 ],
 "metadata": {
  "kernelspec": {
   "display_name": "Python 3.8.5 64-bit ('base': conda)",
   "language": "python",
   "name": "python385jvsc74a57bd0569d6b7e9215e11aba41c6454007e5c1b78bad7df09dab765d8cf00362c40f03"
  },
  "language_info": {
   "codemirror_mode": {
    "name": "ipython",
    "version": 3
   },
   "file_extension": ".py",
   "mimetype": "text/x-python",
   "name": "python",
   "nbconvert_exporter": "python",
   "pygments_lexer": "ipython3",
   "version": "3.8.5"
  }
 },
 "nbformat": 4,
 "nbformat_minor": 5
}
