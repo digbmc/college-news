{
 "cells": [
  {
   "cell_type": "code",
   "execution_count": 1,
   "id": "0ea5161e",
   "metadata": {},
   "outputs": [],
   "source": [
    "import altair as alt\n",
    "import pandas as pd"
   ]
  },
  {
   "cell_type": "code",
   "execution_count": 2,
   "id": "b9b7b425",
   "metadata": {},
   "outputs": [],
   "source": [
    "df = pd.read_csv(r'C:/Users/thisi/Desktop/Python/timeline_final/finaldata_full.csv')"
   ]
  },
  {
   "cell_type": "code",
   "execution_count": 3,
   "id": "6eaa8c3b",
   "metadata": {},
   "outputs": [],
   "source": [
    "base = alt.Chart(df).mark_point(size=80).encode(\n",
    "    x=alt.X('year:Q', axis=alt.Axis(labels=True), scale=alt.Scale(domain=(1950, 1968))),\n",
    "    y=alt.Y('relative frequency:Q', axis=alt.Axis(format='%')),\n",
    "    color='topics:N')"
   ]
  },
  {
   "cell_type": "code",
   "execution_count": 4,
   "id": "9f03e433",
   "metadata": {},
   "outputs": [],
   "source": [
    "highlight = alt.selection(type='single', on='mouseover',\n",
    "                          fields=['topics'], nearest=True)"
   ]
  },
  {
   "cell_type": "code",
   "execution_count": 5,
   "id": "aebdd423",
   "metadata": {},
   "outputs": [],
   "source": [
    "points = base.mark_circle(size=100).encode(\n",
    "    opacity=alt.value(0),\n",
    "    tooltip=['topics', 'year:Q', 'relative frequency:Q']\n",
    ").add_selection(\n",
    "    highlight\n",
    ").properties(\n",
    "    width=600\n",
    ")"
   ]
  },
  {
   "cell_type": "code",
   "execution_count": 6,
   "id": "292ce1da",
   "metadata": {},
   "outputs": [],
   "source": [
    "lines = base.mark_line(size=80).encode(\n",
    "    size=alt.condition(~highlight, alt.value(1), alt.value(3))\n",
    ").interactive()"
   ]
  },
  {
   "cell_type": "code",
   "execution_count": 7,
   "id": "6da9e7c8",
   "metadata": {},
   "outputs": [],
   "source": [
    "chart = points + lines"
   ]
  },
  {
   "cell_type": "code",
   "execution_count": 8,
   "id": "045e9570",
   "metadata": {},
   "outputs": [
    {
     "data": {
      "text/html": [
       "Displaying chart at <a href='http://localhost:16262/' target='_blank'>http://localhost:16262/</a>"
      ],
      "text/plain": [
       "Displaying chart at http://localhost:16262/"
      ]
     },
     "execution_count": 8,
     "metadata": {},
     "output_type": "execute_result"
    }
   ],
   "source": [
    "import altair_viewer\n",
    "altair_viewer.display(points + lines)"
   ]
  },
  {
   "cell_type": "code",
   "execution_count": 21,
   "id": "26d5597c",
   "metadata": {},
   "outputs": [],
   "source": [
    "import altair_saver"
   ]
  },
  {
   "cell_type": "code",
   "execution_count": 22,
   "id": "1ac33ad9",
   "metadata": {},
   "outputs": [],
   "source": [
    "chart.save('C:/Users/thisi/Desktop/Python/timeline_final/timeline-visualization.html', embed_options={'renderer':'svg'})"
   ]
  }
 ],
 "metadata": {
  "kernelspec": {
   "display_name": "Python 3",
   "language": "python",
   "name": "python3"
  },
  "language_info": {
   "codemirror_mode": {
    "name": "ipython",
    "version": 3
   },
   "file_extension": ".py",
   "mimetype": "text/x-python",
   "name": "python",
   "nbconvert_exporter": "python",
   "pygments_lexer": "ipython3",
   "version": "3.8.5"
  }
 },
 "nbformat": 4,
 "nbformat_minor": 5
}
